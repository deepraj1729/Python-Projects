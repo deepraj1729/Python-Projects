{
 "cells": [
  {
   "cell_type": "markdown",
   "metadata": {},
   "source": [
    "# Desktop Assistant For PC Users (Beta version)"
   ]
  },
  {
   "cell_type": "markdown",
   "metadata": {},
   "source": [
    "## Required Modules"
   ]
  },
  {
   "cell_type": "code",
   "execution_count": 1,
   "metadata": {},
   "outputs": [],
   "source": [
    "import pyttsx3\n",
    "import datetime \n",
    "import speech_recognition as sr\n",
    "import wikipedia\n",
    "import webbrowser\n",
    "import os\n",
    "import smtplib"
   ]
  },
  {
   "cell_type": "markdown",
   "metadata": {},
   "source": [
    "## Using The built-in voices in PCs (Windows 10 or more) with pyttsx3 module "
   ]
  },
  {
   "cell_type": "code",
   "execution_count": 2,
   "metadata": {},
   "outputs": [],
   "source": [
    "engine = pyttsx3.init('sapi5')\n",
    "voices = engine.getProperty('voices')\n",
    "engine.setProperty('voice', voices[0].id)"
   ]
  },
  {
   "cell_type": "markdown",
   "metadata": {},
   "source": [
    "## Function for assistant to speak"
   ]
  },
  {
   "cell_type": "code",
   "execution_count": 3,
   "metadata": {},
   "outputs": [],
   "source": [
    "def speak(audio):\n",
    "    engine.say(audio)\n",
    "    engine.runAndWait()"
   ]
  },
  {
   "cell_type": "markdown",
   "metadata": {},
   "source": [
    "## WishMe function"
   ]
  },
  {
   "cell_type": "code",
   "execution_count": 4,
   "metadata": {},
   "outputs": [],
   "source": [
    "def wishMe():\n",
    "    hour = int(datetime.datetime.now().hour)\n",
    "    if hour >=0 and hour <12:\n",
    "        speak(\"Good morning!\")\n",
    "    elif hour >= 12  and hour<18:\n",
    "        speak(\"Good afternoon!\")\n",
    "    else:\n",
    "        speak(\"Good evening Sir!\\n\")    \n",
    "    speak(\"\\n I am Your Desktop Assistant\\n Please tell me how may I help you\")"
   ]
  },
  {
   "cell_type": "markdown",
   "metadata": {},
   "source": [
    "## Function to take Command"
   ]
  },
  {
   "cell_type": "code",
   "execution_count": 5,
   "metadata": {},
   "outputs": [],
   "source": [
    "def takeCommand():\n",
    "    #it takes microphone input from the user and returns string output\n",
    "    r = sr.Recognizer()\n",
    "    with sr.Microphone() as source:\n",
    "        print(\"\\nListening...\")\n",
    "        r.pause_threshold = 0.8\n",
    "        audio = r.listen(source)\n",
    "\n",
    "    try:\n",
    "        print(\"Recognizing...\")\n",
    "        query = r.recognize_google(audio, language='en-in')\n",
    "        print(f\"You said: {query}\\n\")\n",
    "\n",
    "    except Exception as e:\n",
    "        print(\"Couldn't recognize....Say that again please...\")\n",
    "        return \"None\"\n",
    "    return query"
   ]
  },
  {
   "cell_type": "markdown",
   "metadata": {},
   "source": [
    "## Function to send email to users"
   ]
  },
  {
   "cell_type": "code",
   "execution_count": 6,
   "metadata": {},
   "outputs": [],
   "source": [
    "def sendEmail(to , content):\n",
    "    server = smtplib.SMTP('smtp.gmail.com',587)\n",
    "    server.ehlo()\n",
    "    server.starttls()\n",
    "    server.login('abcdefg@gmail.com','abcdefg')\n",
    "    server.sendmail('abcdefg@gmail.com',to,content)\n",
    "    server.quit()"
   ]
  },
  {
   "cell_type": "markdown",
   "metadata": {},
   "source": [
    "## Function to write and save text in a file by audio input"
   ]
  },
  {
   "cell_type": "code",
   "execution_count": 7,
   "metadata": {},
   "outputs": [],
   "source": [
    "def writeText(voice_text):\n",
    "    text_dir = 'C:/Users/User1/Desktop/assistant.doc'\n",
    "    speak(\"Opening written file\")\n",
    "    a = open(text_dir,'w')\n",
    "    a.write(voice_text)\n",
    "    a.close()\n",
    "    #assistant_text = os.listdir(text_dir)\n",
    "    os.startfile(text_dir)"
   ]
  },
  {
   "cell_type": "markdown",
   "metadata": {},
   "source": [
    "## Assistant Cooper begins to operate"
   ]
  },
  {
   "cell_type": "code",
   "execution_count": 8,
   "metadata": {},
   "outputs": [
    {
     "name": "stdout",
     "output_type": "stream",
     "text": [
      "\n",
      "Listening...\n",
      "Recognizing...\n",
      "You said: open Google\n",
      "\n",
      "\n",
      "Listening...\n",
      "Recognizing...\n",
      "You said: open WhatsApp\n",
      "\n",
      "\n",
      "Listening...\n",
      "Recognizing...\n",
      "You said: wish me\n",
      "\n",
      "\n",
      "Listening...\n",
      "Recognizing...\n",
      "You said: can you open WhatsApp\n",
      "\n",
      "\n",
      "Listening...\n",
      "Recognizing...\n",
      "You said: can you tell me the time\n",
      "\n",
      "\n",
      "Listening...\n",
      "Recognizing...\n",
      "You said: open YouTube\n",
      "\n",
      "\n",
      "Listening...\n",
      "Recognizing...\n",
      "You said: quit\n",
      "\n"
     ]
    }
   ],
   "source": [
    "if __name__ == \"__main__\":\n",
    "    wishMe()  \n",
    "\n",
    "    while True:\n",
    "        query = takeCommand().lower()\n",
    "        \n",
    "        # logic for executing tasks based on query\n",
    "\n",
    "        if 'wikipedia' in query:\n",
    "            speak(\"Searching wikipedia.....\")\n",
    "            query = query.replace(\"wikipedia\",\"\")\n",
    "            results = wikipedia.summary(query,sentences = 2)\n",
    "            speak(\"According to wikipedia: \")\n",
    "            print(results)\n",
    "            speak(results)\n",
    "\n",
    "        elif 'open website' in query:\n",
    "            speak('Tell the name of website')\n",
    "            a = takeCommand().lower()\n",
    "            webbrowser.open(\"https://www.{}.com\".format(a)) \n",
    "\n",
    "        elif \"open youtube\" in query:\n",
    "            webbrowser.open(\"https://www.youtube.com\")\n",
    "            speak(\"opening youtube\")\n",
    "\n",
    "        elif \"open google\" in query:\n",
    "            webbrowser.open(\"https://www.google.co.in\")\n",
    "            speak(\"opening google\")\n",
    "\n",
    "        elif (\"open whatsapp\" or 'whats app') in query:\n",
    "            webbrowser.open(\"https://web.whatsapp.com\")\n",
    "            speak(\"opening whatsapp\") \n",
    "\n",
    "        elif \"open stackoverflow\" in query:\n",
    "            webbrowser.open(\"https://stackoverflow.com\")\n",
    "            speak(\"opening stackoverflow\")  \n",
    "        \n",
    "        elif \"play python tutorial\" in query:              \n",
    "            py_dir = 'C:\\\\Users\\\\User1\\\\Desktop\\\\python' \n",
    "            tutorial = os.listdir(py_dir) \n",
    "            speak(\"playing python tutorial\") \n",
    "            os.startfile(os.path.join(py_dir, tutorial[0])) \n",
    "\n",
    "        elif \"play breaking bad\" in query:             \n",
    "            py_dir2 = 'C:\\\\Users\\\\User1\\\\Desktop\\\\breaking bad\\\\BB SEASON 1' \n",
    "            tutorial1 = os.listdir(py_dir2) \n",
    "            speak(\"playing breaking bad\") \n",
    "            os.startfile(os.path.join(py_dir2, tutorial1[0]))        \n",
    "        \n",
    "        elif \"the time\" in query:\n",
    "            strtime = datetime.datetime.now().strftime(\"%H:%M:%S\")\n",
    "            speak(f\"Sir,the time is {strtime} \")\n",
    "            \n",
    "        elif \"open vscode\" in query:     \n",
    "            code_path = \"F:\\\\Microsoft VS Code\\\\Code.exe\"\n",
    "            speak(\"opening vscode\")\n",
    "            os.startfile(code_path)\n",
    "\n",
    "        elif \"open amazon\" in query:\n",
    "            webbrowser.open(\"https://www.amazon.in\")\n",
    "            speak(\"opening amazon\")    \n",
    "\n",
    "        elif 'send email' in query:\n",
    "            try:\n",
    "                speak(\"opening ur email\\n\")\n",
    "                speak(\"What should I send?\")\n",
    "                content = takeCommand()\n",
    "                to = \"xyxyxyxyx@gmail.com\"\n",
    "                sendEmail(to , content)\n",
    "                speak(\"Email has been sent to xyxyxyxyx!\")\n",
    "\n",
    "            except Exception as e:\n",
    "                print(e)\n",
    "                speak(\"Oops!\\nSomething went wrong \\n I'm not able to send mail to xyxyxyxyx\")\n",
    "                \n",
    "        elif ('quit' or 'sleep' or 'close') in query:\n",
    "            speak(\"Ok sir have a nice day\")\n",
    "            break \n",
    "\n",
    "        elif 'write text' in query:\n",
    "            speak('Sir\\n,PLease tell me What to write in the file')\n",
    "            voice_text = takeCommand()\n",
    "            writeText(voice_text)"
   ]
  }
 ],
 "metadata": {
  "kernelspec": {
   "display_name": "Python 3",
   "language": "python",
   "name": "python3"
  },
  "language_info": {
   "codemirror_mode": {
    "name": "ipython",
    "version": 3
   },
   "file_extension": ".py",
   "mimetype": "text/x-python",
   "name": "python",
   "nbconvert_exporter": "python",
   "pygments_lexer": "ipython3",
   "version": "3.7.3"
  }
 },
 "nbformat": 4,
 "nbformat_minor": 2
}
