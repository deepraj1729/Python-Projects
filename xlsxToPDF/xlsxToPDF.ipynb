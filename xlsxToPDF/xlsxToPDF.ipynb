{
 "metadata": {
  "language_info": {
   "codemirror_mode": {
    "name": "ipython",
    "version": 3
   },
   "file_extension": ".py",
   "mimetype": "text/x-python",
   "name": "python",
   "nbconvert_exporter": "python",
   "pygments_lexer": "ipython3",
   "version": "3.7.8-final"
  },
  "orig_nbformat": 2,
  "kernelspec": {
   "name": "python_defaultSpec_1598717807750",
   "display_name": "Python 3.7.8 64-bit ('xlxstopdf': conda)"
  }
 },
 "nbformat": 4,
 "nbformat_minor": 2,
 "cells": [
  {
   "cell_type": "code",
   "execution_count": 1,
   "metadata": {},
   "outputs": [],
   "source": [
    "import win32com.client\n",
    "from pywintypes import com_error\n",
    "import os\n",
    "from pathlib import Path"
   ]
  },
  {
   "cell_type": "code",
   "execution_count": 2,
   "metadata": {},
   "outputs": [],
   "source": [
    "dir_path = os.path.dirname(os.path.realpath('__file__'))"
   ]
  },
  {
   "cell_type": "code",
   "execution_count": 3,
   "metadata": {},
   "outputs": [],
   "source": [
    "# Path to original excel file\n",
    "EXCEL_PATH = os.path.join(dir_path,'Seasonal_Photo_Calendar.xlsx') \n",
    "\n",
    "# PDF path when saving\n",
    "PDF_PATH = os.path.join(dir_path,'YearCalendar.pdf') "
   ]
  },
  {
   "cell_type": "code",
   "execution_count": 4,
   "metadata": {},
   "outputs": [],
   "source": [
    "excel = win32com.client.Dispatch(\"Excel.Application\")"
   ]
  },
  {
   "cell_type": "code",
   "execution_count": 5,
   "metadata": {},
   "outputs": [],
   "source": [
    "excel.Visible = False"
   ]
  },
  {
   "cell_type": "code",
   "execution_count": 6,
   "metadata": {
    "tags": []
   },
   "outputs": [
    {
     "output_type": "stream",
     "name": "stdout",
     "text": "Start conversion to PDF\nSucceeded.\n"
    }
   ],
   "source": [
    "# Open\n",
    "wb = excel.Workbooks.Open(EXCEL_PATH)\n",
    "\n",
    "try:\n",
    "    print('Start conversion to PDF')\n",
    "\n",
    "    # Specify the sheet you want to save by index. 1 is the first (leftmost) sheet.\n",
    "    ws_index_list = [1,2,3,4,5,6,7,8,9,10,11,12]\n",
    "    wb.WorkSheets(ws_index_list).Select()\n",
    "\n",
    "    # Save\n",
    "    wb.ActiveSheet.ExportAsFixedFormat(0, PDF_PATH)\n",
    "except com_error as e:\n",
    "    print('failed.')\n",
    "else:\n",
    "    print('Succeeded.')\n",
    "finally:\n",
    "    wb.Close()\n",
    "    excel.Quit()"
   ]
  }
 ]
}